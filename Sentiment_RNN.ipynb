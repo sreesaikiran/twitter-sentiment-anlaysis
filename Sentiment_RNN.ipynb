{
  "nbformat": 4,
  "nbformat_minor": 0,
  "metadata": {
    "kernelspec": {
      "display_name": "Python 3",
      "language": "python",
      "name": "python3"
    },
    "language_info": {
      "codemirror_mode": {
        "name": "ipython",
        "version": 3
      },
      "file_extension": ".py",
      "mimetype": "text/x-python",
      "name": "python",
      "nbconvert_exporter": "python",
      "pygments_lexer": "ipython3",
      "version": "3.5.3"
    },
    "colab": {
      "name": "Sentiment_RNN.ipynb",
      "provenance": [],
      "collapsed_sections": []
    }
  },
  "cells": [
    {
      "cell_type": "markdown",
      "metadata": {
        "id": "act6oYjhRvHx",
        "colab_type": "text"
      },
      "source": [
        "# Sentiment Analysis with an RNN\n",
        "\n",
        "Implement a recurrent neural network that performs sentiment analysis. Using an RNN rather than a feedfoward network is more accurate since we can include information about the *sequence* of words. Here we'll use a dataset of movie reviews, accompanied by labels.\n",
        "\n",
        "The architecture for this network is shown below.\n",
        "\n",
        "<img src=\"assets/network_diagram.png\" width=400px>\n",
        "\n",
        "Here, we'll pass in words to an embedding layer. We need an embedding layer because we have tens of thousands of words, so we'll need a more efficient representation for our input data than one-hot encoded vectors. You should have seen this before from the word2vec lesson. You can actually train up an embedding with word2vec and use it here. But it's good enough to just have an embedding layer and let the network learn the embedding table on it's own.\n",
        "\n",
        "From the embedding layer, the new representations will be passed to LSTM cells. These will add recurrent connections to the network so we can include information about the sequence of words in the data. Finally, the LSTM cells will go to a sigmoid output layer here. We're using the sigmoid because we're trying to predict if this text has positive or negative sentiment. The output layer will just be a single unit then, with a sigmoid activation function.\n",
        "\n",
        "We don't care about the sigmoid outputs except for the very last one, we can ignore the rest. We'll calculate the cost from the output of the last step and the training label."
      ]
    },
    {
      "cell_type": "code",
      "metadata": {
        "id": "DlN4uMa6RvHy",
        "colab_type": "code",
        "colab": {}
      },
      "source": [
        "import numpy as np\n",
        "import tensorflow as tf"
      ],
      "execution_count": 0,
      "outputs": []
    },
    {
      "cell_type": "code",
      "metadata": {
        "id": "i36b5So49XxE",
        "colab_type": "code",
        "outputId": "4ef2ed2b-eefb-4104-c0b0-3cc83e01d1d1",
        "colab": {
          "base_uri": "https://localhost:8080/",
          "height": 122
        }
      },
      "source": [
        "\n",
        "from google.colab import drive\n",
        "drive.mount('/content/gdrive')"
      ],
      "execution_count": 2,
      "outputs": [
        {
          "output_type": "stream",
          "text": [
            "Go to this URL in a browser: https://accounts.google.com/o/oauth2/auth?client_id=947318989803-6bn6qk8qdgf4n4g3pfee6491hc0brc4i.apps.googleusercontent.com&redirect_uri=urn%3aietf%3awg%3aoauth%3a2.0%3aoob&response_type=code&scope=email%20https%3a%2f%2fwww.googleapis.com%2fauth%2fdocs.test%20https%3a%2f%2fwww.googleapis.com%2fauth%2fdrive%20https%3a%2f%2fwww.googleapis.com%2fauth%2fdrive.photos.readonly%20https%3a%2f%2fwww.googleapis.com%2fauth%2fpeopleapi.readonly\n",
            "\n",
            "Enter your authorization code:\n",
            "··········\n",
            "Mounted at /content/gdrive\n"
          ],
          "name": "stdout"
        }
      ]
    },
    {
      "cell_type": "code",
      "metadata": {
        "id": "7g2yWi6C9rpK",
        "colab_type": "code",
        "colab": {}
      },
      "source": [
        "root_path = 'gdrive/My Drive/your_project_folder/'"
      ],
      "execution_count": 0,
      "outputs": []
    },
    {
      "cell_type": "code",
      "metadata": {
        "id": "f426P3XYRvH1",
        "colab_type": "code",
        "colab": {}
      },
      "source": [
        "# from google.colab import files\n",
        "# uploaded = files.upload()\n",
        "with open('gdrive/My Drive/Colab Notebooks/reviews.txt', 'r') as f:\n",
        "    reviews = f.read()\n",
        "with open('gdrive/My Drive/Colab Notebooks/labels.txt', 'r') as f:\n",
        "    labels_org = f.read()"
      ],
      "execution_count": 0,
      "outputs": []
    },
    {
      "cell_type": "code",
      "metadata": {
        "id": "mhzgvwJoRvH4",
        "colab_type": "code",
        "outputId": "a59b4539-e030-4250-abc1-e3f5e2a361cf",
        "colab": {
          "base_uri": "https://localhost:8080/",
          "height": 54
        }
      },
      "source": [
        "reviews[:2000]"
      ],
      "execution_count": 5,
      "outputs": [
        {
          "output_type": "execute_result",
          "data": {
            "text/plain": [
              "'bromwell high is a cartoon comedy . it ran at the same time as some other programs about school life  such as  teachers  . my   years in the teaching profession lead me to believe that bromwell high  s satire is much closer to reality than is  teachers  . the scramble to survive financially  the insightful students who can see right through their pathetic teachers  pomp  the pettiness of the whole situation  all remind me of the schools i knew and their students . when i saw the episode in which a student repeatedly tried to burn down the school  i immediately recalled . . . . . . . . . at . . . . . . . . . . high . a classic line inspector i  m here to sack one of your teachers . student welcome to bromwell high . i expect that many adults of my age think that bromwell high is far fetched . what a pity that it isn  t   \\nstory of a man who has unnatural feelings for a pig . starts out with a opening scene that is a terrific example of absurd comedy . a formal orchestra audience is turned into an insane  violent mob by the crazy chantings of it  s singers . unfortunately it stays absurd the whole time with no general narrative eventually making it just too off putting . even those from the era should be turned off . the cryptic dialogue would make shakespeare seem easy to a third grader . on a technical level it  s better than you might think with some good cinematography by future great vilmos zsigmond . future stars sally kirkland and frederic forrest can be seen briefly .  \\nhomelessness  or houselessness as george carlin stated  has been an issue for years but never a plan to help those on the street that were once considered human who did everything from going to school  work  or vote for the matter . most people think of the homeless as just a lost cause while worrying about things such as racism  the war on iraq  pressuring kids to succeed  technology  the elections  inflation  or worrying if they  ll be next to end up on the streets .  br    br   but what if y'"
            ]
          },
          "metadata": {
            "tags": []
          },
          "execution_count": 5
        }
      ]
    },
    {
      "cell_type": "markdown",
      "metadata": {
        "id": "oik4YMZZRvH7",
        "colab_type": "text"
      },
      "source": [
        "## Data preprocessing\n",
        "\n",
        "The first step when building a neural network model is getting your data into the proper form to feed into the network. Since we're using embedding layers, we'll need to encode each word with an integer. We'll also want to clean it up a bit.\n",
        "\n",
        "You can see an example of the reviews data above. We'll want to get rid of those periods. Also, you might notice that the reviews are delimited with newlines `\\n`. To deal with those, I'm going to split the text into each review using `\\n` as the delimiter. Then I can combined all the reviews back together into one big string.\n",
        "\n",
        "First, let's remove all punctuation. Then get all the text without the newlines and split it into individual words."
      ]
    },
    {
      "cell_type": "code",
      "metadata": {
        "id": "6YBggwYpRvH8",
        "colab_type": "code",
        "colab": {}
      },
      "source": [
        "from string import punctuation\n",
        "all_text = ''.join([c for c in reviews if c not in punctuation])\n",
        "reviews = all_text.split('\\n')\n",
        "\n",
        "all_text = ' '.join(reviews)\n",
        "words = all_text.split()"
      ],
      "execution_count": 0,
      "outputs": []
    },
    {
      "cell_type": "code",
      "metadata": {
        "id": "m5AreWulRvH-",
        "colab_type": "code",
        "outputId": "5b274f67-00ed-4554-bf91-14d244029474",
        "colab": {
          "base_uri": "https://localhost:8080/",
          "height": 54
        }
      },
      "source": [
        "all_text[:2000]"
      ],
      "execution_count": 7,
      "outputs": [
        {
          "output_type": "execute_result",
          "data": {
            "text/plain": [
              "'bromwell high is a cartoon comedy  it ran at the same time as some other programs about school life  such as  teachers   my   years in the teaching profession lead me to believe that bromwell high  s satire is much closer to reality than is  teachers   the scramble to survive financially  the insightful students who can see right through their pathetic teachers  pomp  the pettiness of the whole situation  all remind me of the schools i knew and their students  when i saw the episode in which a student repeatedly tried to burn down the school  i immediately recalled          at           high  a classic line inspector i  m here to sack one of your teachers  student welcome to bromwell high  i expect that many adults of my age think that bromwell high is far fetched  what a pity that it isn  t    story of a man who has unnatural feelings for a pig  starts out with a opening scene that is a terrific example of absurd comedy  a formal orchestra audience is turned into an insane  violent mob by the crazy chantings of it  s singers  unfortunately it stays absurd the whole time with no general narrative eventually making it just too off putting  even those from the era should be turned off  the cryptic dialogue would make shakespeare seem easy to a third grader  on a technical level it  s better than you might think with some good cinematography by future great vilmos zsigmond  future stars sally kirkland and frederic forrest can be seen briefly    homelessness  or houselessness as george carlin stated  has been an issue for years but never a plan to help those on the street that were once considered human who did everything from going to school  work  or vote for the matter  most people think of the homeless as just a lost cause while worrying about things such as racism  the war on iraq  pressuring kids to succeed  technology  the elections  inflation  or worrying if they  ll be next to end up on the streets   br    br   but what if you were given a bet to live on the st'"
            ]
          },
          "metadata": {
            "tags": []
          },
          "execution_count": 7
        }
      ]
    },
    {
      "cell_type": "code",
      "metadata": {
        "id": "iVah3lC_RvIB",
        "colab_type": "code",
        "outputId": "8608a1d6-0bc5-43f3-ddd1-7a636e19c355",
        "colab": {
          "base_uri": "https://localhost:8080/",
          "height": 1000
        }
      },
      "source": [
        "words[:100]"
      ],
      "execution_count": 8,
      "outputs": [
        {
          "output_type": "execute_result",
          "data": {
            "text/plain": [
              "['bromwell',\n",
              " 'high',\n",
              " 'is',\n",
              " 'a',\n",
              " 'cartoon',\n",
              " 'comedy',\n",
              " 'it',\n",
              " 'ran',\n",
              " 'at',\n",
              " 'the',\n",
              " 'same',\n",
              " 'time',\n",
              " 'as',\n",
              " 'some',\n",
              " 'other',\n",
              " 'programs',\n",
              " 'about',\n",
              " 'school',\n",
              " 'life',\n",
              " 'such',\n",
              " 'as',\n",
              " 'teachers',\n",
              " 'my',\n",
              " 'years',\n",
              " 'in',\n",
              " 'the',\n",
              " 'teaching',\n",
              " 'profession',\n",
              " 'lead',\n",
              " 'me',\n",
              " 'to',\n",
              " 'believe',\n",
              " 'that',\n",
              " 'bromwell',\n",
              " 'high',\n",
              " 's',\n",
              " 'satire',\n",
              " 'is',\n",
              " 'much',\n",
              " 'closer',\n",
              " 'to',\n",
              " 'reality',\n",
              " 'than',\n",
              " 'is',\n",
              " 'teachers',\n",
              " 'the',\n",
              " 'scramble',\n",
              " 'to',\n",
              " 'survive',\n",
              " 'financially',\n",
              " 'the',\n",
              " 'insightful',\n",
              " 'students',\n",
              " 'who',\n",
              " 'can',\n",
              " 'see',\n",
              " 'right',\n",
              " 'through',\n",
              " 'their',\n",
              " 'pathetic',\n",
              " 'teachers',\n",
              " 'pomp',\n",
              " 'the',\n",
              " 'pettiness',\n",
              " 'of',\n",
              " 'the',\n",
              " 'whole',\n",
              " 'situation',\n",
              " 'all',\n",
              " 'remind',\n",
              " 'me',\n",
              " 'of',\n",
              " 'the',\n",
              " 'schools',\n",
              " 'i',\n",
              " 'knew',\n",
              " 'and',\n",
              " 'their',\n",
              " 'students',\n",
              " 'when',\n",
              " 'i',\n",
              " 'saw',\n",
              " 'the',\n",
              " 'episode',\n",
              " 'in',\n",
              " 'which',\n",
              " 'a',\n",
              " 'student',\n",
              " 'repeatedly',\n",
              " 'tried',\n",
              " 'to',\n",
              " 'burn',\n",
              " 'down',\n",
              " 'the',\n",
              " 'school',\n",
              " 'i',\n",
              " 'immediately',\n",
              " 'recalled',\n",
              " 'at',\n",
              " 'high']"
            ]
          },
          "metadata": {
            "tags": []
          },
          "execution_count": 8
        }
      ]
    },
    {
      "cell_type": "markdown",
      "metadata": {
        "id": "M6TpW457RvID",
        "colab_type": "text"
      },
      "source": [
        "### Encoding the words\n",
        "\n",
        "The embedding lookup requires that we pass in integers to our network. The easiest way to do this is to create dictionaries that map the words in the vocabulary to integers. Then we can convert each of our reviews into integers so they can be passed into the network.\n",
        "\n",
        "> **Exercise:** Now you're going to encode the words with integers. Build a dictionary that maps words to integers. Later we're going to pad our input vectors with zeros, so make sure the integers **start at 1, not 0**.\n",
        "> Also, convert the reviews to integers and store the reviews in a new list called `reviews_ints`. "
      ]
    },
    {
      "cell_type": "code",
      "metadata": {
        "id": "6SpF-qKXRvIE",
        "colab_type": "code",
        "colab": {}
      },
      "source": [
        "# # Create your dictionary that maps vocab words to integers here\n",
        "# vocab = set(words)\n",
        "# vocab_to_int = {w: i for i, w in enumerate(vocab, 1)}\n",
        "# print(len(vocab_to_int))\n",
        "\n",
        "# # Convert the reviews to integers, same shape as reviews list, but with integers\n",
        "# reviews_ints = []\n",
        "# for r in reviews:\n",
        "#     ri = [vocab_to_int.get(w) for w in r if vocab_to_int.get(w) is not None]\n",
        "#     reviews_ints.append(ri)\n",
        "# reviews_ints[:10]\n",
        "\n",
        "from collections import Counter\n",
        "counts = Counter(words)\n",
        "vocab = sorted(counts, key=counts.get, reverse=True)\n",
        "vocab_to_int = {word: ii for ii, word in enumerate(vocab, 1)}\n",
        "\n",
        "reviews_ints = []\n",
        "for each in reviews:\n",
        "    reviews_ints.append([vocab_to_int[word] for word in each.split()])"
      ],
      "execution_count": 0,
      "outputs": []
    },
    {
      "cell_type": "code",
      "metadata": {
        "id": "396Y5UDGRvIG",
        "colab_type": "code",
        "outputId": "9c1820ab-720a-4c83-8521-36c6481a113f",
        "colab": {
          "base_uri": "https://localhost:8080/",
          "height": 34
        }
      },
      "source": [
        "print(len(reviews_ints))\n"
      ],
      "execution_count": 16,
      "outputs": [
        {
          "output_type": "stream",
          "text": [
            "25000\n"
          ],
          "name": "stdout"
        }
      ]
    },
    {
      "cell_type": "markdown",
      "metadata": {
        "id": "sy9fVjp7RvII",
        "colab_type": "text"
      },
      "source": [
        "### Encoding the labels\n",
        "\n",
        "Our labels are \"positive\" or \"negative\". To use these labels in our network, we need to convert them to 0 and 1.\n",
        "\n",
        "> **Exercise:** Convert labels from `positive` and `negative` to 1 and 0, respectively."
      ]
    },
    {
      "cell_type": "code",
      "metadata": {
        "id": "YL5tpJ6RRvII",
        "colab_type": "code",
        "outputId": "26c391ff-5925-462a-a462-afe315ed81ae",
        "colab": {
          "base_uri": "https://localhost:8080/",
          "height": 34
        }
      },
      "source": [
        "# Convert labels to 1s and 0s for 'positive' and 'negative'\n",
        "# print(labels_org)\n",
        "labels = np.array([1 if l == \"positive\" else 0 for l in labels_org.split()])\n",
        "# print(labels)\n",
        "print(len(labels))\n"
      ],
      "execution_count": 17,
      "outputs": [
        {
          "output_type": "stream",
          "text": [
            "25000\n"
          ],
          "name": "stdout"
        }
      ]
    },
    {
      "cell_type": "markdown",
      "metadata": {
        "id": "6mEUiZ-QRvIK",
        "colab_type": "text"
      },
      "source": [
        "If you built `labels` correctly, you should see the next output."
      ]
    },
    {
      "cell_type": "code",
      "metadata": {
        "id": "tWAPIQEtRvIK",
        "colab_type": "code",
        "outputId": "cf9977be-963e-4287-9c88-e7b1fc8e67d0",
        "colab": {
          "base_uri": "https://localhost:8080/",
          "height": 51
        }
      },
      "source": [
        "from collections import Counter\n",
        "review_lens = Counter([len(x) for x in reviews_ints])\n",
        "print(\"Zero-length reviews: {}\".format(review_lens[0]))\n",
        "print(\"Maximum review length: {}\".format(max(review_lens)))"
      ],
      "execution_count": 18,
      "outputs": [
        {
          "output_type": "stream",
          "text": [
            "Zero-length reviews: 0\n",
            "Maximum review length: 200\n"
          ],
          "name": "stdout"
        }
      ]
    },
    {
      "cell_type": "markdown",
      "metadata": {
        "id": "kEBaHFwlRvIM",
        "colab_type": "text"
      },
      "source": [
        "Okay, a couple issues here. We seem to have one review with zero length. And, the maximum review length is way too many steps for our RNN. Let's truncate to 200 steps. For reviews shorter than 200, we'll pad with 0s. For reviews longer than 200, we can truncate them to the first 200 characters.\n",
        "\n",
        "> **Exercise:** First, remove the review with zero length from the `reviews_ints` list."
      ]
    },
    {
      "cell_type": "code",
      "metadata": {
        "id": "cyZVcFQhRvIN",
        "colab_type": "code",
        "colab": {}
      },
      "source": [
        "# Filter out that review with 0 length\n",
        "reviews_ints = [r[0:200] for r in reviews_ints if len(r) > 0]"
      ],
      "execution_count": 0,
      "outputs": []
    },
    {
      "cell_type": "code",
      "metadata": {
        "id": "NK9Jg6ibRvIP",
        "colab_type": "code",
        "outputId": "883b234a-a7fe-4af8-b384-54463a163bc5",
        "colab": {
          "base_uri": "https://localhost:8080/",
          "height": 51
        }
      },
      "source": [
        "from collections import Counter\n",
        "review_lens = Counter([len(x) for x in reviews_ints])\n",
        "print(\"Zero-length reviews: {}\".format(review_lens[0]))\n",
        "print(\"Maximum review length: {}\".format(max(review_lens)))"
      ],
      "execution_count": 20,
      "outputs": [
        {
          "output_type": "stream",
          "text": [
            "Zero-length reviews: 0\n",
            "Maximum review length: 200\n"
          ],
          "name": "stdout"
        }
      ]
    },
    {
      "cell_type": "markdown",
      "metadata": {
        "id": "7gJqELbERvIR",
        "colab_type": "text"
      },
      "source": [
        "> **Exercise:** Now, create an array `features` that contains the data we'll pass to the network. The data should come from `review_ints`, since we want to feed integers to the network. Each row should be 200 elements long. For reviews shorter than 200 words, left pad with 0s. That is, if the review is `['best', 'movie', 'ever']`, `[117, 18, 128]` as integers, the row will look like `[0, 0, 0, ..., 0, 117, 18, 128]`. For reviews longer than 200, use on the first 200 words as the feature vector.\n",
        "\n",
        "This isn't trivial and there are a bunch of ways to do this. But, if you're going to be building your own deep learning networks, you're going to have to get used to preparing your data.\n",
        "\n"
      ]
    },
    {
      "cell_type": "code",
      "metadata": {
        "id": "DE53SVqtRvIS",
        "colab_type": "code",
        "outputId": "85c126e4-e6d3-4e9a-9dd9-ccd0d5f733d0",
        "colab": {
          "base_uri": "https://localhost:8080/",
          "height": 1000
        }
      },
      "source": [
        "seq_len = 200\n",
        "features = np.zeros((len(reviews_ints), seq_len), dtype=int)\n",
        "# print(features[:10,:100])\n",
        "for i, row in enumerate(reviews_ints):\n",
        "    features[i, -len(row):] = np.array(row)[:seq_len]\n",
        "features[:10,:100]\n",
        "    # features = []\n",
        "# for r in reviews_ints:\n",
        "#     features.append(np.pad(r, (0, 200 - len(r)), 'constant').tolist())\n",
        "\n",
        "# interesting = []\n",
        "# for i, r in enumerate(reviews_ints):\n",
        "#     if len(r) < 200:\n",
        "#         interesting.append(i)\n",
        "\n",
        "        \n",
        "# features = np.array([np.pad(r, (len(r), 200-len(r)), 'constant').tolist() for r in reviews_ints])"
      ],
      "execution_count": 21,
      "outputs": [
        {
          "output_type": "execute_result",
          "data": {
            "text/plain": [
              "array([[    0,     0,     0,     0,     0,     0,     0,     0,     0,\n",
              "            0,     0,     0,     0,     0,     0,     0,     0,     0,\n",
              "            0,     0,     0,     0,     0,     0,     0,     0,     0,\n",
              "            0,     0,     0,     0,     0,     0,     0,     0,     0,\n",
              "            0,     0,     0,     0,     0,     0,     0,     0,     0,\n",
              "            0,     0,     0,     0,     0,     0,     0,     0,     0,\n",
              "            0,     0,     0,     0,     0,     0, 21025,   308,     6,\n",
              "            3,  1050,   207,     8,  2138,    32,     1,   171,    57,\n",
              "           15,    49,    81,  5785,    44,   382,   110,   140,    15,\n",
              "         5194,    60,   154,     9,     1,  4975,  5852,   475,    71,\n",
              "            5,   260,    12, 21025,   308,    13,  1978,     6,    74,\n",
              "         2395],\n",
              "       [    0,     0,     0,     0,     0,     0,     0,     0,     0,\n",
              "            0,     0,     0,     0,     0,     0,     0,     0,     0,\n",
              "            0,     0,     0,     0,     0,     0,     0,     0,     0,\n",
              "            0,     0,     0,     0,     0,     0,     0,     0,     0,\n",
              "            0,     0,     0,     0,     0,     0,     0,     0,     0,\n",
              "            0,     0,     0,     0,     0,     0,     0,     0,     0,\n",
              "            0,     0,     0,     0,     0,     0,     0,     0,     0,\n",
              "            0,     0,     0,     0,     0,     0,     0,     0,     0,\n",
              "            0,     0,     0,     0,     0,     0,     0,     0,     0,\n",
              "            0,     0,     0,     0,     0,    63,     4,     3,   125,\n",
              "           36,    47,  7472,  1395,    16,     3,  4181,   505,    45,\n",
              "           17],\n",
              "       [22382,    42, 46418,    15,   706, 17139,  3389,    47,    77,\n",
              "           35,  1819,    16,   154,    19,   114,     3,  1305,     5,\n",
              "          336,   147,    22,     1,   857,    12,    70,   281,  1168,\n",
              "          399,    36,   120,   283,    38,   169,     5,   382,   158,\n",
              "           42,  2269,    16,     1,   541,    90,    78,   102,     4,\n",
              "            1,  3244,    15,    43,     3,   407,  1068,   136,  8055,\n",
              "           44,   182,   140,    15,  3043,     1,   320,    22,  4818,\n",
              "        26224,   346,     5,  3090,  2092,     1, 18839, 17939,    42,\n",
              "         8055,    46,    33,   236,    29,   370,     5,   130,    56,\n",
              "           22,     1,  1928,     7,     7,    19,    48,    46,    21,\n",
              "           70,   344,     3,  2099,     5,   408,    22,     1,  1928,\n",
              "           16],\n",
              "       [ 4505,   505,    15,     3,  3342,   162,  8312,  1652,     6,\n",
              "         4819,    56,    17,  4504,  5616,   140, 11725,     5,   996,\n",
              "         4919,  2933,  4462,   566,  1201,    36,     6,  1518,    96,\n",
              "            3,   744,     4, 26225,    13,     5,    27,  3461,     9,\n",
              "        10625,     4,     8,   111,  3013,     5,     1,  1027,    15,\n",
              "            3,  4390,    82,    22,  2049,     6,  4462,   538,  2764,\n",
              "         7073, 37443,    41,   463,     1,  8312, 46419,   302,   123,\n",
              "           15,  4221,    19,  1667,   922,     1,  1652,     6,  6129,\n",
              "        19871,    34,     1,   980,  1751, 22383,   646, 24104,    27,\n",
              "          106, 11726,    13, 14045, 15097, 17940,  2457,   466, 21027,\n",
              "           36,  3266,     1,  6365,  1020,    45,    17,  2695,  2499,\n",
              "           33],\n",
              "       [    0,     0,     0,     0,     0,     0,     0,     0,     0,\n",
              "            0,     0,     0,     0,     0,     0,     0,     0,     0,\n",
              "            0,     0,     0,     0,     0,     0,     0,     0,     0,\n",
              "            0,     0,     0,     0,     0,     0,     0,     0,     0,\n",
              "            0,     0,     0,     0,     0,     0,     0,     0,     0,\n",
              "            0,     0,     0,     0,     0,   520,   119,   113,    34,\n",
              "        16372,  1816,  3737,   117,   885, 21030,   721,    10,    28,\n",
              "          124,   108,     2,   115,   137,     9,  1623,  7691,    26,\n",
              "          330,     5,   589,     1,  6130,    22,   386,     6,     3,\n",
              "          349,    15,    50,    15,   231,     9,  7473, 11399,     1,\n",
              "          191,    22,  8966,     6,    82,   880,   101,   111,  3584,\n",
              "            4],\n",
              "       [    0,     0,     0,     0,     0,     0,     0,     0,     0,\n",
              "            0,     0,     0,     0,     0,     0,     0,     0,     0,\n",
              "            0,     0,     0,     0,     0,     0,     0,     0,     0,\n",
              "            0,     0,     0,     0,     0,     0,     0,     0,     0,\n",
              "            0,     0,     0,     0,     0,     0,     0,     0,     0,\n",
              "            0,     0,     0,     0,     0,     0,     0,     0,     0,\n",
              "           11,    20,  3637,   141,    10,   422,    23,   272,    60,\n",
              "         4355,    22,    32,    84,  3286,    22,     1,   172,     4,\n",
              "            1,   952,   507,    11,  4977,  5361,     5,   574,     4,\n",
              "         1155,    54,    53,  5304,     1,   261,    17,    41,   952,\n",
              "          125,    59,     1,   711,   137,   379,   626,    15,   111,\n",
              "         1509],\n",
              "       [    0,     0,     0,     0,     0,     0,     0,     0,     0,\n",
              "            0,     0,     0,     0,     0,     0,     0,     0,     0,\n",
              "            0,     0,     0,     0,     0,     0,     0,     0,     0,\n",
              "            0,     0,     0,     0,     0,     0,     0,     0,     0,\n",
              "            0,     0,     0,     0,     0,     0,     0,     0,     0,\n",
              "            0,     0,     0,     0,     0,     0,     0,     0,     0,\n",
              "            0,     0,     0,     0,     0,     0,     0,     0,     0,\n",
              "            0,     0,     0,     0,     0,     0,     0,     0,     0,\n",
              "            0,     0,     0,     0,    11,     6,   692,     1,    90,\n",
              "         2156,    20, 11728,     1,  2818,  5195,   249,    92,  3006,\n",
              "            8,   126,    24,   200,     3,   802,   634,     4, 22382,\n",
              "         1001],\n",
              "       [    0,     0,     0,     0,     0,     0,     0,     0,     0,\n",
              "            0,     0,     0,     0,     0,     0,     0,     0,     0,\n",
              "            0,     0,     0,     0,     0,     0,     0,     0,     0,\n",
              "            0,     0,     0,     0,     0,     0,     0,     0,     0,\n",
              "            0,     0,     0,     0,     0,     0,     0,     0,     0,\n",
              "            0,     0,   786,   295,    10,   122,    11,     6,   419,\n",
              "            5,    29,    35,   482,    20,    19,  1281,    33,   142,\n",
              "           28,  2657,    45,  1840,    32,     1,  2778,    37,    78,\n",
              "           97,  2436,    67,  3950,    45,     2,    24,   105,   256,\n",
              "            1,   134,  1571,     2, 12399,   451,    14,   319,    11,\n",
              "           63,     6,    98,  1321,     5,   105,     1,  3767,     4,\n",
              "            3],\n",
              "       [    0,     0,     0,     0,     0,     0,     0,     0,     0,\n",
              "            0,     0,     0,     0,     0,     0,     0,     0,     0,\n",
              "            0,     0,     0,     0,     0,     0,     0,     0,     0,\n",
              "            0,     0,     0,     0,     0,     0,     0,     0,     0,\n",
              "            0,     0,     0,     0,     0,     0,     0,     0,     0,\n",
              "            0,     0,     0,     0,     0,     0,     0,     0,     0,\n",
              "            0,     0,     0,     0,     0,     0,     0,     0,     0,\n",
              "            0,     0,     0,     0,     0,     0,     0,     0,     0,\n",
              "            0,     0,     0,     0,     0,     0,     0,    11,     6,\n",
              "           24,     1,   779,  3687,  2818,    20,     8,    14,    74,\n",
              "          325,  2730,    73,    90,     4,    27,    99,     2,   165,\n",
              "           68],\n",
              "       [   54,    10,    14,   116,    60,   798,   552,    71,   364,\n",
              "            5,     1,   730,     5,    66,  8057,     8,    14,    30,\n",
              "            4,   109,    99,    10,   293,    17,    60,   798,    19,\n",
              "           11,    14,     1,    64,    30,    69,  2500,    45,     4,\n",
              "          234,    93,    10,    68,   114,   108,  8057,   363,    43,\n",
              "         1009,     2,    10,    97,    28,  1431,    45,     1,   357,\n",
              "            4,    60,   110,   205,     8,    48,     3,  1929, 10880,\n",
              "            2,  2124,   354,   412,     4,    13,  6609,     2,  2974,\n",
              "         5148,  2125,  1366,     6,    30,     4,    60,   502,   876,\n",
              "           19,  8057,     6,    34,   227,     1,   247,   412,     4,\n",
              "          582,     4,    27,   599,     9,     1, 13586,   396,     4,\n",
              "        14047]])"
            ]
          },
          "metadata": {
            "tags": []
          },
          "execution_count": 21
        }
      ]
    },
    {
      "cell_type": "markdown",
      "metadata": {
        "id": "rSrQShJnRvIU",
        "colab_type": "text"
      },
      "source": [
        "If you build features correctly, it should look like that cell output below."
      ]
    },
    {
      "cell_type": "code",
      "metadata": {
        "id": "yZUex1UaRvIU",
        "colab_type": "code",
        "outputId": "c5de7ab0-a1f3-4e87-d585-1659bc2d9615",
        "colab": {
          "base_uri": "https://localhost:8080/",
          "height": 391
        }
      },
      "source": [
        "# print(interesting)\n",
        "print(len(features))\n",
        "print(type(features))\n",
        "print(features[41])\n",
        "print(len(features[41]))\n",
        "print(reviews_ints[41])\n",
        "print(len(reviews_ints[41]))\n",
        "\n",
        "# features[:100]\n"
      ],
      "execution_count": 22,
      "outputs": [
        {
          "output_type": "stream",
          "text": [
            "25000\n",
            "<class 'numpy.ndarray'>\n",
            "[    0     0     0     0     0     0     0     0     0     0     0     0\n",
            "     0     0     0     0     0     0     0     0     0     0     0     0\n",
            "     0     0     0     0     0     0     0     0     0     0     0     0\n",
            "     0     0     0     0     0     0     0     0     0     0     0     0\n",
            "     0     0     0     0     0     0     0     0     0     0     0     0\n",
            "     0     0     0     0     0     0     0     0     0     0     0     0\n",
            "     0     0     0     0     0     0     0     0     0     0     0     0\n",
            "     0     0     0     0     0     0     0     0     0     0     0     0\n",
            "     0     0     0     0     0     0     0     0     0     0     0     0\n",
            "     0     0     0     0     0     0     0     0     0     0     0     0\n",
            "     0     0     0     0     0     0     0     0     0     0     0     0\n",
            "     0     0     0     0     0     0     0     0     0     0     0     0\n",
            "     0     0     0     0     0     0     0     0     0     0     0     0\n",
            "     0     0     0     0     0     0     0     0     0     0     0     0\n",
            "     0     0     0     0     0     0     0     0     0     0     0     0\n",
            "     1   103    26  6060     2     1   226     6   367     8    13     3\n",
            "   433     4     1  1931     4 19878     2 21040]\n",
            "200\n",
            "[1, 103, 26, 6060, 2, 1, 226, 6, 367, 8, 13, 3, 433, 4, 1, 1931, 4, 19878, 2, 21040]\n",
            "20\n"
          ],
          "name": "stdout"
        }
      ]
    },
    {
      "cell_type": "markdown",
      "metadata": {
        "id": "AixnLjB6RvIW",
        "colab_type": "text"
      },
      "source": [
        "## Training, Validation, Test\n",
        "\n"
      ]
    },
    {
      "cell_type": "markdown",
      "metadata": {
        "id": "h0cqcWjgRvIW",
        "colab_type": "text"
      },
      "source": [
        "With our data in nice shape, we'll split it into training, validation, and test sets.\n",
        "\n",
        "> **Exercise:** Create the training, validation, and test sets here. You'll need to create sets for the features and the labels, `train_x` and `train_y` for example. Define a split fraction, `split_frac` as the fraction of data to keep in the training set. Usually this is set to 0.8 or 0.9. The rest of the data will be split in half to create the validation and testing data."
      ]
    },
    {
      "cell_type": "code",
      "metadata": {
        "id": "Q1qVN8n8RvIX",
        "colab_type": "code",
        "outputId": "86dbe413-35d3-49eb-f632-287c47640228",
        "colab": {
          "base_uri": "https://localhost:8080/",
          "height": 136
        }
      },
      "source": [
        "split_frac = 0.8\n",
        "\n",
        "split_index = int(split_frac * len(features))\n",
        "split_index\n",
        "train_x, val_x = features[:split_index], features[split_index:] \n",
        "train_y, val_y = labels[:split_index], labels[split_index:]\n",
        "\n",
        "split_frac = 0.5\n",
        "split_index = int(split_frac * len(val_x))\n",
        "\n",
        "val_x, test_x = val_x[:split_index], val_x[split_index:]\n",
        "val_y, test_y = val_y[:split_index], val_y[split_index:]\n",
        "\n",
        "print(\"\\t\\t\\tFeature Shapes:\")\n",
        "print(\"Train set: \\t\\t{}\".format(train_x.shape), \n",
        "      \"\\nValidation set: \\t{}\".format(val_x.shape),\n",
        "      \"\\nTest set: \\t\\t{}\".format(test_x.shape))\n",
        "print(\"label set: \\t\\t{}\".format(train_y.shape), \n",
        "      \"\\nValidation label set: \\t{}\".format(val_y.shape),\n",
        "      \"\\nTest label set: \\t\\t{}\".format(test_y.shape))"
      ],
      "execution_count": 23,
      "outputs": [
        {
          "output_type": "stream",
          "text": [
            "\t\t\tFeature Shapes:\n",
            "Train set: \t\t(20000, 200) \n",
            "Validation set: \t(2500, 200) \n",
            "Test set: \t\t(2500, 200)\n",
            "label set: \t\t(20000,) \n",
            "Validation label set: \t(2500,) \n",
            "Test label set: \t\t(2500,)\n"
          ],
          "name": "stdout"
        }
      ]
    },
    {
      "cell_type": "markdown",
      "metadata": {
        "id": "c7fTI1TcRvIZ",
        "colab_type": "text"
      },
      "source": [
        "With train, validation, and text fractions of 0.8, 0.1, 0.1, the final shapes should look like:\n",
        "```\n",
        "                    Feature Shapes:\n",
        "Train set: \t\t (20000, 200) \n",
        "Validation set: \t(2500, 200) \n",
        "Test set: \t\t  (2500, 200)\n",
        "```"
      ]
    },
    {
      "cell_type": "markdown",
      "metadata": {
        "id": "uGkI8lunRvIZ",
        "colab_type": "text"
      },
      "source": [
        "## Build the graph\n",
        "\n",
        "Here, we'll build the graph. First up, defining the hyperparameters.\n",
        "\n",
        "* `lstm_size`: Number of units in the hidden layers in the LSTM cells. Usually larger is better performance wise. Common values are 128, 256, 512, etc.\n",
        "* `lstm_layers`: Number of LSTM layers in the network. I'd start with 1, then add more if I'm underfitting.\n",
        "* `batch_size`: The number of reviews to feed the network in one training pass. Typically this should be set as high as you can go without running out of memory.\n",
        "* `learning_rate`: Learning rate"
      ]
    },
    {
      "cell_type": "code",
      "metadata": {
        "id": "dB0U-ixDRvIZ",
        "colab_type": "code",
        "colab": {}
      },
      "source": [
        "lstm_size = 256\n",
        "lstm_layers = 2\n",
        "batch_size = 1000\n",
        "learning_rate = 0.01\n",
        "embedding_dim = 300\n"
      ],
      "execution_count": 0,
      "outputs": []
    },
    {
      "cell_type": "code",
      "metadata": {
        "id": "HJH8GAGnFcJH",
        "colab_type": "code",
        "outputId": "ccd89a85-a469-4f80-e917-32dd36cddffe",
        "colab": {
          "base_uri": "https://localhost:8080/",
          "height": 272
        }
      },
      "source": [
        "n_words = len(vocab_to_int) + 1 # Add 1 for 0 added to vocab\n",
        "# num_units = [128, 64]\n",
        "print(n_words)\n",
        "model = tf.keras.Sequential([\n",
        "    # Add an Embedding layer expecting input vocab of size 5000, and output embedding dimension of size 64 we set at the top\n",
        "    tf.keras.layers.Embedding(n_words, 32, input_length=200),\n",
        "    # tf.keras.layers.SpatialDropout1D(0.4),\n",
        "    tf.keras.layers.LSTM(lstm_size, dropout=0.2, recurrent_dropout=0.2),\n",
        "#    tf.keras.layers.Bidirectional(tf.keras.layers.LSTM(32)),\n",
        "    # use ReLU in place of tanh function since they are very good alternatives of each other.\n",
        "    tf.keras.layers.Dense(1, activation='sigmoid'),\n",
        "    # Add a Dense layer with 6 units and softmax activation.\n",
        "    # When we have multiple outputs, softmax convert outputs layers into a probability distribution.\n",
        "    # tf.keras.layers.Dense(3, activation='softmax')\n",
        "])\n",
        "model.summary()"
      ],
      "execution_count": 25,
      "outputs": [
        {
          "output_type": "stream",
          "text": [
            "74073\n",
            "Model: \"sequential\"\n",
            "_________________________________________________________________\n",
            "Layer (type)                 Output Shape              Param #   \n",
            "=================================================================\n",
            "embedding (Embedding)        (None, 200, 32)           2370336   \n",
            "_________________________________________________________________\n",
            "lstm (LSTM)                  (None, 256)               295936    \n",
            "_________________________________________________________________\n",
            "dense (Dense)                (None, 1)                 257       \n",
            "=================================================================\n",
            "Total params: 2,666,529\n",
            "Trainable params: 2,666,529\n",
            "Non-trainable params: 0\n",
            "_________________________________________________________________\n"
          ],
          "name": "stdout"
        }
      ]
    },
    {
      "cell_type": "code",
      "metadata": {
        "id": "eXPWiYSWMj_R",
        "colab_type": "code",
        "colab": {}
      },
      "source": [
        "model.compile(loss = 'binary_crossentropy', optimizer='adam',metrics = ['accuracy'])"
      ],
      "execution_count": 0,
      "outputs": []
    },
    {
      "cell_type": "markdown",
      "metadata": {
        "id": "HvvLnvuBRvIr",
        "colab_type": "text"
      },
      "source": [
        "## Training\n"
      ]
    },
    {
      "cell_type": "code",
      "metadata": {
        "id": "hJkHnef_MwAd",
        "colab_type": "code",
        "outputId": "2c0d106b-6027-40df-98fa-e3901aebdb5e",
        "colab": {
          "base_uri": "https://localhost:8080/",
          "height": 357
        }
      },
      "source": [
        "num_epochs = 10\n",
        "history = model.fit(train_x, train_y, epochs=num_epochs, batch_size=64, validation_data=(val_x, val_y),  verbose=2)"
      ],
      "execution_count": 27,
      "outputs": [
        {
          "output_type": "stream",
          "text": [
            "Epoch 1/10\n",
            "313/313 - 535s - loss: 0.5573 - accuracy: 0.7031 - val_loss: 0.4456 - val_accuracy: 0.7956\n",
            "Epoch 2/10\n",
            "313/313 - 537s - loss: 0.3173 - accuracy: 0.8719 - val_loss: 0.5464 - val_accuracy: 0.7968\n",
            "Epoch 3/10\n",
            "313/313 - 537s - loss: 0.2369 - accuracy: 0.9137 - val_loss: 0.4908 - val_accuracy: 0.8040\n",
            "Epoch 4/10\n",
            "313/313 - 538s - loss: 0.1484 - accuracy: 0.9481 - val_loss: 0.6138 - val_accuracy: 0.7920\n",
            "Epoch 5/10\n",
            "313/313 - 538s - loss: 0.0808 - accuracy: 0.9745 - val_loss: 0.6947 - val_accuracy: 0.7976\n",
            "Epoch 6/10\n",
            "313/313 - 536s - loss: 0.1372 - accuracy: 0.9467 - val_loss: 0.6895 - val_accuracy: 0.7868\n",
            "Epoch 7/10\n",
            "313/313 - 547s - loss: 0.0593 - accuracy: 0.9814 - val_loss: 0.7889 - val_accuracy: 0.7800\n",
            "Epoch 8/10\n",
            "313/313 - 533s - loss: 0.0347 - accuracy: 0.9898 - val_loss: 0.9195 - val_accuracy: 0.7748\n",
            "Epoch 9/10\n",
            "313/313 - 520s - loss: 0.0324 - accuracy: 0.9899 - val_loss: 1.0021 - val_accuracy: 0.7552\n",
            "Epoch 10/10\n",
            "313/313 - 523s - loss: 0.0229 - accuracy: 0.9932 - val_loss: 1.0817 - val_accuracy: 0.7872\n"
          ],
          "name": "stdout"
        }
      ]
    },
    {
      "cell_type": "markdown",
      "metadata": {
        "id": "Ep-qDBUKRvIt",
        "colab_type": "text"
      },
      "source": [
        "## Testing"
      ]
    },
    {
      "cell_type": "code",
      "metadata": {
        "id": "hnVymJR_j4NA",
        "colab_type": "code",
        "colab": {
          "base_uri": "https://localhost:8080/",
          "height": 34
        },
        "outputId": "36650762-472b-4658-9428-138507ad2db2"
      },
      "source": [
        "scores = model.evaluate(test_x, test_y, verbose=0)\n",
        "print('Test accuracy:', scores[1])"
      ],
      "execution_count": 28,
      "outputs": [
        {
          "output_type": "stream",
          "text": [
            "Test accuracy: 0.7911999821662903\n"
          ],
          "name": "stdout"
        }
      ]
    }
  ]
}